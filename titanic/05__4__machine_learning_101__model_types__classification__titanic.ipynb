{
 "cells": [
  {
   "cell_type": "markdown",
   "metadata": {},
   "source": [
    "# Trenujemy klasyfikator dla Titanica"
   ]
  },
  {
   "cell_type": "code",
   "execution_count": 1,
   "metadata": {},
   "outputs": [],
   "source": [
    "from pycaret.classification import setup, compare_models, finalize_model, plot_model, save_model\n",
    "from pycaret.datasets import get_data\n",
    "import pandas as pd"
   ]
  },
  {
   "cell_type": "code",
   "execution_count": 10,
   "metadata": {},
   "outputs": [],
   "source": [
    "titanic_df = pd.read_csv(\"titanic.csv\", sep=\";\")"
   ]
  },
  {
   "cell_type": "code",
   "execution_count": 11,
   "metadata": {},
   "outputs": [
    {
     "data": {
      "text/plain": [
       "1310"
      ]
     },
     "execution_count": 11,
     "metadata": {},
     "output_type": "execute_result"
    }
   ],
   "source": [
    "len(titanic_df)"
   ]
  },
  {
   "cell_type": "markdown",
   "metadata": {},
   "source": [
    "## Setup"
   ]
  },
  {
   "cell_type": "code",
   "execution_count": 19,
   "metadata": {},
   "outputs": [
    {
     "ename": "ValueError",
     "evalue": "Invalid value for the target parameter. Column survived not found in the data.",
     "output_type": "error",
     "traceback": [
      "\u001b[1;31m---------------------------------------------------------------------------\u001b[0m",
      "\u001b[1;31mValueError\u001b[0m                                Traceback (most recent call last)",
      "Cell \u001b[1;32mIn[19], line 1\u001b[0m\n\u001b[1;32m----> 1\u001b[0m setup(\n\u001b[0;32m      2\u001b[0m     data\u001b[38;5;241m=\u001b[39mtitanic_df,\n\u001b[0;32m      3\u001b[0m     target\u001b[38;5;241m=\u001b[39m\u001b[38;5;124m'\u001b[39m\u001b[38;5;124msurvived\u001b[39m\u001b[38;5;124m'\u001b[39m,\n\u001b[0;32m      4\u001b[0m     session_id\u001b[38;5;241m=\u001b[39m\u001b[38;5;241m123\u001b[39m,\n\u001b[0;32m      5\u001b[0m     fix_imbalance\u001b[38;5;241m=\u001b[39m\u001b[38;5;28;01mTrue\u001b[39;00m,\n\u001b[0;32m      6\u001b[0m     normalize\u001b[38;5;241m=\u001b[39m\u001b[38;5;28;01mTrue\u001b[39;00m,\n\u001b[0;32m      7\u001b[0m     transformation\u001b[38;5;241m=\u001b[39m\u001b[38;5;28;01mTrue\u001b[39;00m,\n\u001b[0;32m      8\u001b[0m )\n",
      "File \u001b[1;32m~\\.conda\\envs\\datascience\\Lib\\site-packages\\pycaret\\classification\\functional.py:595\u001b[0m, in \u001b[0;36msetup\u001b[1;34m(data, data_func, target, index, train_size, test_data, ordinal_features, numeric_features, categorical_features, date_features, text_features, ignore_features, keep_features, preprocess, create_date_columns, imputation_type, numeric_imputation, categorical_imputation, iterative_imputation_iters, numeric_iterative_imputer, categorical_iterative_imputer, text_features_method, max_encoding_ohe, encoding_method, rare_to_value, rare_value, polynomial_features, polynomial_degree, low_variance_threshold, group_features, drop_groups, remove_multicollinearity, multicollinearity_threshold, bin_numeric_features, remove_outliers, outliers_method, outliers_threshold, fix_imbalance, fix_imbalance_method, transformation, transformation_method, normalize, normalize_method, pca, pca_method, pca_components, feature_selection, feature_selection_method, feature_selection_estimator, n_features_to_select, custom_pipeline, custom_pipeline_position, data_split_shuffle, data_split_stratify, fold_strategy, fold, fold_shuffle, fold_groups, n_jobs, use_gpu, html, session_id, system_log, log_experiment, experiment_name, experiment_custom_tags, log_plots, log_profile, log_data, verbose, memory, profile, profile_kwargs)\u001b[0m\n\u001b[0;32m    593\u001b[0m exp \u001b[38;5;241m=\u001b[39m _EXPERIMENT_CLASS()\n\u001b[0;32m    594\u001b[0m set_current_experiment(exp)\n\u001b[1;32m--> 595\u001b[0m \u001b[38;5;28;01mreturn\u001b[39;00m exp\u001b[38;5;241m.\u001b[39msetup(\n\u001b[0;32m    596\u001b[0m     data\u001b[38;5;241m=\u001b[39mdata,\n\u001b[0;32m    597\u001b[0m     data_func\u001b[38;5;241m=\u001b[39mdata_func,\n\u001b[0;32m    598\u001b[0m     target\u001b[38;5;241m=\u001b[39mtarget,\n\u001b[0;32m    599\u001b[0m     index\u001b[38;5;241m=\u001b[39mindex,\n\u001b[0;32m    600\u001b[0m     train_size\u001b[38;5;241m=\u001b[39mtrain_size,\n\u001b[0;32m    601\u001b[0m     test_data\u001b[38;5;241m=\u001b[39mtest_data,\n\u001b[0;32m    602\u001b[0m     ordinal_features\u001b[38;5;241m=\u001b[39mordinal_features,\n\u001b[0;32m    603\u001b[0m     numeric_features\u001b[38;5;241m=\u001b[39mnumeric_features,\n\u001b[0;32m    604\u001b[0m     categorical_features\u001b[38;5;241m=\u001b[39mcategorical_features,\n\u001b[0;32m    605\u001b[0m     date_features\u001b[38;5;241m=\u001b[39mdate_features,\n\u001b[0;32m    606\u001b[0m     text_features\u001b[38;5;241m=\u001b[39mtext_features,\n\u001b[0;32m    607\u001b[0m     ignore_features\u001b[38;5;241m=\u001b[39mignore_features,\n\u001b[0;32m    608\u001b[0m     keep_features\u001b[38;5;241m=\u001b[39mkeep_features,\n\u001b[0;32m    609\u001b[0m     preprocess\u001b[38;5;241m=\u001b[39mpreprocess,\n\u001b[0;32m    610\u001b[0m     create_date_columns\u001b[38;5;241m=\u001b[39mcreate_date_columns,\n\u001b[0;32m    611\u001b[0m     imputation_type\u001b[38;5;241m=\u001b[39mimputation_type,\n\u001b[0;32m    612\u001b[0m     numeric_imputation\u001b[38;5;241m=\u001b[39mnumeric_imputation,\n\u001b[0;32m    613\u001b[0m     categorical_imputation\u001b[38;5;241m=\u001b[39mcategorical_imputation,\n\u001b[0;32m    614\u001b[0m     iterative_imputation_iters\u001b[38;5;241m=\u001b[39miterative_imputation_iters,\n\u001b[0;32m    615\u001b[0m     numeric_iterative_imputer\u001b[38;5;241m=\u001b[39mnumeric_iterative_imputer,\n\u001b[0;32m    616\u001b[0m     categorical_iterative_imputer\u001b[38;5;241m=\u001b[39mcategorical_iterative_imputer,\n\u001b[0;32m    617\u001b[0m     text_features_method\u001b[38;5;241m=\u001b[39mtext_features_method,\n\u001b[0;32m    618\u001b[0m     max_encoding_ohe\u001b[38;5;241m=\u001b[39mmax_encoding_ohe,\n\u001b[0;32m    619\u001b[0m     encoding_method\u001b[38;5;241m=\u001b[39mencoding_method,\n\u001b[0;32m    620\u001b[0m     rare_to_value\u001b[38;5;241m=\u001b[39mrare_to_value,\n\u001b[0;32m    621\u001b[0m     rare_value\u001b[38;5;241m=\u001b[39mrare_value,\n\u001b[0;32m    622\u001b[0m     polynomial_features\u001b[38;5;241m=\u001b[39mpolynomial_features,\n\u001b[0;32m    623\u001b[0m     polynomial_degree\u001b[38;5;241m=\u001b[39mpolynomial_degree,\n\u001b[0;32m    624\u001b[0m     low_variance_threshold\u001b[38;5;241m=\u001b[39mlow_variance_threshold,\n\u001b[0;32m    625\u001b[0m     group_features\u001b[38;5;241m=\u001b[39mgroup_features,\n\u001b[0;32m    626\u001b[0m     drop_groups\u001b[38;5;241m=\u001b[39mdrop_groups,\n\u001b[0;32m    627\u001b[0m     remove_multicollinearity\u001b[38;5;241m=\u001b[39mremove_multicollinearity,\n\u001b[0;32m    628\u001b[0m     multicollinearity_threshold\u001b[38;5;241m=\u001b[39mmulticollinearity_threshold,\n\u001b[0;32m    629\u001b[0m     bin_numeric_features\u001b[38;5;241m=\u001b[39mbin_numeric_features,\n\u001b[0;32m    630\u001b[0m     remove_outliers\u001b[38;5;241m=\u001b[39mremove_outliers,\n\u001b[0;32m    631\u001b[0m     outliers_method\u001b[38;5;241m=\u001b[39moutliers_method,\n\u001b[0;32m    632\u001b[0m     outliers_threshold\u001b[38;5;241m=\u001b[39moutliers_threshold,\n\u001b[0;32m    633\u001b[0m     fix_imbalance\u001b[38;5;241m=\u001b[39mfix_imbalance,\n\u001b[0;32m    634\u001b[0m     fix_imbalance_method\u001b[38;5;241m=\u001b[39mfix_imbalance_method,\n\u001b[0;32m    635\u001b[0m     transformation\u001b[38;5;241m=\u001b[39mtransformation,\n\u001b[0;32m    636\u001b[0m     transformation_method\u001b[38;5;241m=\u001b[39mtransformation_method,\n\u001b[0;32m    637\u001b[0m     normalize\u001b[38;5;241m=\u001b[39mnormalize,\n\u001b[0;32m    638\u001b[0m     normalize_method\u001b[38;5;241m=\u001b[39mnormalize_method,\n\u001b[0;32m    639\u001b[0m     pca\u001b[38;5;241m=\u001b[39mpca,\n\u001b[0;32m    640\u001b[0m     pca_method\u001b[38;5;241m=\u001b[39mpca_method,\n\u001b[0;32m    641\u001b[0m     pca_components\u001b[38;5;241m=\u001b[39mpca_components,\n\u001b[0;32m    642\u001b[0m     feature_selection\u001b[38;5;241m=\u001b[39mfeature_selection,\n\u001b[0;32m    643\u001b[0m     feature_selection_method\u001b[38;5;241m=\u001b[39mfeature_selection_method,\n\u001b[0;32m    644\u001b[0m     feature_selection_estimator\u001b[38;5;241m=\u001b[39mfeature_selection_estimator,\n\u001b[0;32m    645\u001b[0m     n_features_to_select\u001b[38;5;241m=\u001b[39mn_features_to_select,\n\u001b[0;32m    646\u001b[0m     custom_pipeline\u001b[38;5;241m=\u001b[39mcustom_pipeline,\n\u001b[0;32m    647\u001b[0m     custom_pipeline_position\u001b[38;5;241m=\u001b[39mcustom_pipeline_position,\n\u001b[0;32m    648\u001b[0m     data_split_shuffle\u001b[38;5;241m=\u001b[39mdata_split_shuffle,\n\u001b[0;32m    649\u001b[0m     data_split_stratify\u001b[38;5;241m=\u001b[39mdata_split_stratify,\n\u001b[0;32m    650\u001b[0m     fold_strategy\u001b[38;5;241m=\u001b[39mfold_strategy,\n\u001b[0;32m    651\u001b[0m     fold\u001b[38;5;241m=\u001b[39mfold,\n\u001b[0;32m    652\u001b[0m     fold_shuffle\u001b[38;5;241m=\u001b[39mfold_shuffle,\n\u001b[0;32m    653\u001b[0m     fold_groups\u001b[38;5;241m=\u001b[39mfold_groups,\n\u001b[0;32m    654\u001b[0m     n_jobs\u001b[38;5;241m=\u001b[39mn_jobs,\n\u001b[0;32m    655\u001b[0m     use_gpu\u001b[38;5;241m=\u001b[39muse_gpu,\n\u001b[0;32m    656\u001b[0m     html\u001b[38;5;241m=\u001b[39mhtml,\n\u001b[0;32m    657\u001b[0m     session_id\u001b[38;5;241m=\u001b[39msession_id,\n\u001b[0;32m    658\u001b[0m     system_log\u001b[38;5;241m=\u001b[39msystem_log,\n\u001b[0;32m    659\u001b[0m     log_experiment\u001b[38;5;241m=\u001b[39mlog_experiment,\n\u001b[0;32m    660\u001b[0m     experiment_name\u001b[38;5;241m=\u001b[39mexperiment_name,\n\u001b[0;32m    661\u001b[0m     experiment_custom_tags\u001b[38;5;241m=\u001b[39mexperiment_custom_tags,\n\u001b[0;32m    662\u001b[0m     log_plots\u001b[38;5;241m=\u001b[39mlog_plots,\n\u001b[0;32m    663\u001b[0m     log_profile\u001b[38;5;241m=\u001b[39mlog_profile,\n\u001b[0;32m    664\u001b[0m     log_data\u001b[38;5;241m=\u001b[39mlog_data,\n\u001b[0;32m    665\u001b[0m     verbose\u001b[38;5;241m=\u001b[39mverbose,\n\u001b[0;32m    666\u001b[0m     memory\u001b[38;5;241m=\u001b[39mmemory,\n\u001b[0;32m    667\u001b[0m     profile\u001b[38;5;241m=\u001b[39mprofile,\n\u001b[0;32m    668\u001b[0m     profile_kwargs\u001b[38;5;241m=\u001b[39mprofile_kwargs,\n\u001b[0;32m    669\u001b[0m )\n",
      "File \u001b[1;32m~\\.conda\\envs\\datascience\\Lib\\site-packages\\pycaret\\classification\\oop.py:744\u001b[0m, in \u001b[0;36mClassificationExperiment.setup\u001b[1;34m(self, data, data_func, target, index, train_size, test_data, ordinal_features, numeric_features, categorical_features, date_features, text_features, ignore_features, keep_features, preprocess, create_date_columns, imputation_type, numeric_imputation, categorical_imputation, iterative_imputation_iters, numeric_iterative_imputer, categorical_iterative_imputer, text_features_method, max_encoding_ohe, encoding_method, rare_to_value, rare_value, polynomial_features, polynomial_degree, low_variance_threshold, group_features, drop_groups, remove_multicollinearity, multicollinearity_threshold, bin_numeric_features, remove_outliers, outliers_method, outliers_threshold, fix_imbalance, fix_imbalance_method, transformation, transformation_method, normalize, normalize_method, pca, pca_method, pca_components, feature_selection, feature_selection_method, feature_selection_estimator, n_features_to_select, custom_pipeline, custom_pipeline_position, data_split_shuffle, data_split_stratify, fold_strategy, fold, fold_shuffle, fold_groups, n_jobs, use_gpu, html, session_id, system_log, log_experiment, experiment_name, experiment_custom_tags, log_plots, log_profile, log_data, engine, verbose, memory, profile, profile_kwargs)\u001b[0m\n\u001b[0;32m    741\u001b[0m \u001b[38;5;28;01mif\u001b[39;00m data_func \u001b[38;5;129;01mis\u001b[39;00m \u001b[38;5;129;01mnot\u001b[39;00m \u001b[38;5;28;01mNone\u001b[39;00m:\n\u001b[0;32m    742\u001b[0m     data \u001b[38;5;241m=\u001b[39m data_func()\n\u001b[1;32m--> 744\u001b[0m \u001b[38;5;28mself\u001b[39m\u001b[38;5;241m.\u001b[39mdata \u001b[38;5;241m=\u001b[39m \u001b[38;5;28mself\u001b[39m\u001b[38;5;241m.\u001b[39m_prepare_dataset(data, target)\n\u001b[0;32m    745\u001b[0m \u001b[38;5;28mself\u001b[39m\u001b[38;5;241m.\u001b[39mtarget_param \u001b[38;5;241m=\u001b[39m \u001b[38;5;28mself\u001b[39m\u001b[38;5;241m.\u001b[39mdata\u001b[38;5;241m.\u001b[39mcolumns[\u001b[38;5;241m-\u001b[39m\u001b[38;5;241m1\u001b[39m]\n\u001b[0;32m    746\u001b[0m \u001b[38;5;28mself\u001b[39m\u001b[38;5;241m.\u001b[39mindex \u001b[38;5;241m=\u001b[39m index\n",
      "File \u001b[1;32m~\\.conda\\envs\\datascience\\Lib\\site-packages\\pycaret\\internal\\preprocess\\preprocessor.py:150\u001b[0m, in \u001b[0;36mPreprocessor._prepare_dataset\u001b[1;34m(self, X, y)\u001b[0m\n\u001b[0;32m    148\u001b[0m \u001b[38;5;28;01melif\u001b[39;00m \u001b[38;5;28misinstance\u001b[39m(y, \u001b[38;5;28mstr\u001b[39m):\n\u001b[0;32m    149\u001b[0m     \u001b[38;5;28;01mif\u001b[39;00m y \u001b[38;5;129;01mnot\u001b[39;00m \u001b[38;5;129;01min\u001b[39;00m X\u001b[38;5;241m.\u001b[39mcolumns:\n\u001b[1;32m--> 150\u001b[0m         \u001b[38;5;28;01mraise\u001b[39;00m \u001b[38;5;167;01mValueError\u001b[39;00m(\n\u001b[0;32m    151\u001b[0m             \u001b[38;5;124m\"\u001b[39m\u001b[38;5;124mInvalid value for the target parameter. \u001b[39m\u001b[38;5;124m\"\u001b[39m\n\u001b[0;32m    152\u001b[0m             \u001b[38;5;124mf\u001b[39m\u001b[38;5;124m\"\u001b[39m\u001b[38;5;124mColumn \u001b[39m\u001b[38;5;132;01m{\u001b[39;00my\u001b[38;5;132;01m}\u001b[39;00m\u001b[38;5;124m not found in the data.\u001b[39m\u001b[38;5;124m\"\u001b[39m\n\u001b[0;32m    153\u001b[0m         )\n\u001b[0;32m    155\u001b[0m     X, y \u001b[38;5;241m=\u001b[39m X\u001b[38;5;241m.\u001b[39mdrop(y, axis\u001b[38;5;241m=\u001b[39m\u001b[38;5;241m1\u001b[39m), X[y]\n\u001b[0;32m    157\u001b[0m \u001b[38;5;28;01melif\u001b[39;00m \u001b[38;5;28misinstance\u001b[39m(y, \u001b[38;5;28mint\u001b[39m):\n",
      "\u001b[1;31mValueError\u001b[0m: Invalid value for the target parameter. Column survived not found in the data."
     ]
    }
   ],
   "source": [
    "setup(\n",
    "    data=titanic_df,\n",
    "    target='survived',\n",
    "    session_id=123,\n",
    "    fix_imbalance=True,\n",
    "    normalize=True,\n",
    "    transformation=True,\n",
    ")"
   ]
  },
  {
   "cell_type": "markdown",
   "metadata": {},
   "source": [
    "## Compare Models"
   ]
  },
  {
   "cell_type": "code",
   "execution_count": 14,
   "metadata": {},
   "outputs": [
    {
     "data": {
      "text/html": [],
      "text/plain": [
       "<IPython.core.display.HTML object>"
      ]
     },
     "metadata": {},
     "output_type": "display_data"
    },
    {
     "data": {
      "text/html": [
       "<style type=\"text/css\">\n",
       "#T_79284 th {\n",
       "  text-align: left;\n",
       "}\n",
       "#T_79284_row0_col0, #T_79284_row0_col2, #T_79284_row0_col3, #T_79284_row0_col4, #T_79284_row0_col5, #T_79284_row0_col6, #T_79284_row0_col7, #T_79284_row1_col0, #T_79284_row1_col2, #T_79284_row1_col3, #T_79284_row1_col4, #T_79284_row1_col5, #T_79284_row1_col6, #T_79284_row1_col7, #T_79284_row2_col0, #T_79284_row2_col1, #T_79284_row2_col2, #T_79284_row2_col3, #T_79284_row2_col4, #T_79284_row2_col5, #T_79284_row2_col6, #T_79284_row2_col7, #T_79284_row3_col0, #T_79284_row3_col1, #T_79284_row3_col2, #T_79284_row3_col3, #T_79284_row4_col0, #T_79284_row4_col1, #T_79284_row4_col2, #T_79284_row4_col3, #T_79284_row4_col4, #T_79284_row4_col5, #T_79284_row4_col6, #T_79284_row4_col7, #T_79284_row5_col0, #T_79284_row5_col1, #T_79284_row5_col2, #T_79284_row5_col3, #T_79284_row5_col4, #T_79284_row5_col5, #T_79284_row5_col6, #T_79284_row5_col7, #T_79284_row6_col0, #T_79284_row6_col1, #T_79284_row6_col3, #T_79284_row6_col4, #T_79284_row6_col5, #T_79284_row6_col6, #T_79284_row6_col7, #T_79284_row7_col0, #T_79284_row7_col1, #T_79284_row7_col2, #T_79284_row7_col3, #T_79284_row7_col4, #T_79284_row7_col5, #T_79284_row7_col6, #T_79284_row7_col7, #T_79284_row8_col0, #T_79284_row8_col1, #T_79284_row8_col2, #T_79284_row8_col3, #T_79284_row8_col4, #T_79284_row8_col5, #T_79284_row8_col6, #T_79284_row8_col7, #T_79284_row9_col0, #T_79284_row9_col1, #T_79284_row9_col2, #T_79284_row9_col3, #T_79284_row9_col4, #T_79284_row9_col5, #T_79284_row9_col6, #T_79284_row9_col7, #T_79284_row10_col0, #T_79284_row10_col1, #T_79284_row10_col2, #T_79284_row10_col4, #T_79284_row10_col5, #T_79284_row10_col6, #T_79284_row10_col7, #T_79284_row11_col0, #T_79284_row11_col1, #T_79284_row11_col2, #T_79284_row11_col3, #T_79284_row11_col4, #T_79284_row11_col5, #T_79284_row11_col6, #T_79284_row11_col7, #T_79284_row12_col0, #T_79284_row12_col1, #T_79284_row12_col2, #T_79284_row12_col3, #T_79284_row12_col4, #T_79284_row12_col5, #T_79284_row12_col6, #T_79284_row12_col7, #T_79284_row13_col0, #T_79284_row13_col1, #T_79284_row13_col2, #T_79284_row13_col3, #T_79284_row13_col4, #T_79284_row13_col5, #T_79284_row13_col6, #T_79284_row13_col7 {\n",
       "  text-align: left;\n",
       "}\n",
       "#T_79284_row0_col1, #T_79284_row1_col1, #T_79284_row3_col4, #T_79284_row3_col5, #T_79284_row3_col6, #T_79284_row3_col7, #T_79284_row6_col2, #T_79284_row10_col3 {\n",
       "  text-align: left;\n",
       "  background-color: yellow;\n",
       "}\n",
       "#T_79284_row0_col8, #T_79284_row8_col8, #T_79284_row9_col8 {\n",
       "  text-align: left;\n",
       "  background-color: yellow;\n",
       "  background-color: lightgrey;\n",
       "}\n",
       "#T_79284_row1_col8, #T_79284_row2_col8, #T_79284_row3_col8, #T_79284_row4_col8, #T_79284_row5_col8, #T_79284_row6_col8, #T_79284_row7_col8, #T_79284_row10_col8, #T_79284_row11_col8, #T_79284_row12_col8, #T_79284_row13_col8 {\n",
       "  text-align: left;\n",
       "  background-color: lightgrey;\n",
       "}\n",
       "</style>\n",
       "<table id=\"T_79284\">\n",
       "  <thead>\n",
       "    <tr>\n",
       "      <th class=\"blank level0\" >&nbsp;</th>\n",
       "      <th id=\"T_79284_level0_col0\" class=\"col_heading level0 col0\" >Model</th>\n",
       "      <th id=\"T_79284_level0_col1\" class=\"col_heading level0 col1\" >Accuracy</th>\n",
       "      <th id=\"T_79284_level0_col2\" class=\"col_heading level0 col2\" >AUC</th>\n",
       "      <th id=\"T_79284_level0_col3\" class=\"col_heading level0 col3\" >Recall</th>\n",
       "      <th id=\"T_79284_level0_col4\" class=\"col_heading level0 col4\" >Prec.</th>\n",
       "      <th id=\"T_79284_level0_col5\" class=\"col_heading level0 col5\" >F1</th>\n",
       "      <th id=\"T_79284_level0_col6\" class=\"col_heading level0 col6\" >Kappa</th>\n",
       "      <th id=\"T_79284_level0_col7\" class=\"col_heading level0 col7\" >MCC</th>\n",
       "      <th id=\"T_79284_level0_col8\" class=\"col_heading level0 col8\" >TT (Sec)</th>\n",
       "    </tr>\n",
       "  </thead>\n",
       "  <tbody>\n",
       "    <tr>\n",
       "      <th id=\"T_79284_level0_row0\" class=\"row_heading level0 row0\" >qda</th>\n",
       "      <td id=\"T_79284_row0_col0\" class=\"data row0 col0\" >Quadratic Discriminant Analysis</td>\n",
       "      <td id=\"T_79284_row0_col1\" class=\"data row0 col1\" >0.6164</td>\n",
       "      <td id=\"T_79284_row0_col2\" class=\"data row0 col2\" >0.4939</td>\n",
       "      <td id=\"T_79284_row0_col3\" class=\"data row0 col3\" >0.0000</td>\n",
       "      <td id=\"T_79284_row0_col4\" class=\"data row0 col4\" >0.0000</td>\n",
       "      <td id=\"T_79284_row0_col5\" class=\"data row0 col5\" >0.0000</td>\n",
       "      <td id=\"T_79284_row0_col6\" class=\"data row0 col6\" >0.0000</td>\n",
       "      <td id=\"T_79284_row0_col7\" class=\"data row0 col7\" >0.0000</td>\n",
       "      <td id=\"T_79284_row0_col8\" class=\"data row0 col8\" >0.0500</td>\n",
       "    </tr>\n",
       "    <tr>\n",
       "      <th id=\"T_79284_level0_row1\" class=\"row_heading level0 row1\" >dummy</th>\n",
       "      <td id=\"T_79284_row1_col0\" class=\"data row1 col0\" >Dummy Classifier</td>\n",
       "      <td id=\"T_79284_row1_col1\" class=\"data row1 col1\" >0.6164</td>\n",
       "      <td id=\"T_79284_row1_col2\" class=\"data row1 col2\" >0.0000</td>\n",
       "      <td id=\"T_79284_row1_col3\" class=\"data row1 col3\" >0.0000</td>\n",
       "      <td id=\"T_79284_row1_col4\" class=\"data row1 col4\" >0.0000</td>\n",
       "      <td id=\"T_79284_row1_col5\" class=\"data row1 col5\" >0.0000</td>\n",
       "      <td id=\"T_79284_row1_col6\" class=\"data row1 col6\" >0.0000</td>\n",
       "      <td id=\"T_79284_row1_col7\" class=\"data row1 col7\" >0.0000</td>\n",
       "      <td id=\"T_79284_row1_col8\" class=\"data row1 col8\" >0.0530</td>\n",
       "    </tr>\n",
       "    <tr>\n",
       "      <th id=\"T_79284_level0_row2\" class=\"row_heading level0 row2\" >rf</th>\n",
       "      <td id=\"T_79284_row2_col0\" class=\"data row2 col0\" >Random Forest Classifier</td>\n",
       "      <td id=\"T_79284_row2_col1\" class=\"data row2 col1\" >0.5699</td>\n",
       "      <td id=\"T_79284_row2_col2\" class=\"data row2 col2\" >0.0000</td>\n",
       "      <td id=\"T_79284_row2_col3\" class=\"data row2 col3\" >0.3980</td>\n",
       "      <td id=\"T_79284_row2_col4\" class=\"data row2 col4\" >0.4318</td>\n",
       "      <td id=\"T_79284_row2_col5\" class=\"data row2 col5\" >0.4121</td>\n",
       "      <td id=\"T_79284_row2_col6\" class=\"data row2 col6\" >0.0756</td>\n",
       "      <td id=\"T_79284_row2_col7\" class=\"data row2 col7\" >0.0759</td>\n",
       "      <td id=\"T_79284_row2_col8\" class=\"data row2 col8\" >0.1490</td>\n",
       "    </tr>\n",
       "    <tr>\n",
       "      <th id=\"T_79284_level0_row3\" class=\"row_heading level0 row3\" >dt</th>\n",
       "      <td id=\"T_79284_row3_col0\" class=\"data row3 col0\" >Decision Tree Classifier</td>\n",
       "      <td id=\"T_79284_row3_col1\" class=\"data row3 col1\" >0.5698</td>\n",
       "      <td id=\"T_79284_row3_col2\" class=\"data row3 col2\" >0.0000</td>\n",
       "      <td id=\"T_79284_row3_col3\" class=\"data row3 col3\" >0.4312</td>\n",
       "      <td id=\"T_79284_row3_col4\" class=\"data row3 col4\" >0.4369</td>\n",
       "      <td id=\"T_79284_row3_col5\" class=\"data row3 col5\" >0.4325</td>\n",
       "      <td id=\"T_79284_row3_col6\" class=\"data row3 col6\" >0.0869</td>\n",
       "      <td id=\"T_79284_row3_col7\" class=\"data row3 col7\" >0.0869</td>\n",
       "      <td id=\"T_79284_row3_col8\" class=\"data row3 col8\" >0.0510</td>\n",
       "    </tr>\n",
       "    <tr>\n",
       "      <th id=\"T_79284_level0_row4\" class=\"row_heading level0 row4\" >et</th>\n",
       "      <td id=\"T_79284_row4_col0\" class=\"data row4 col0\" >Extra Trees Classifier</td>\n",
       "      <td id=\"T_79284_row4_col1\" class=\"data row4 col1\" >0.5587</td>\n",
       "      <td id=\"T_79284_row4_col2\" class=\"data row4 col2\" >0.0000</td>\n",
       "      <td id=\"T_79284_row4_col3\" class=\"data row4 col3\" >0.4058</td>\n",
       "      <td id=\"T_79284_row4_col4\" class=\"data row4 col4\" >0.4253</td>\n",
       "      <td id=\"T_79284_row4_col5\" class=\"data row4 col5\" >0.4130</td>\n",
       "      <td id=\"T_79284_row4_col6\" class=\"data row4 col6\" >0.0610</td>\n",
       "      <td id=\"T_79284_row4_col7\" class=\"data row4 col7\" >0.0617</td>\n",
       "      <td id=\"T_79284_row4_col8\" class=\"data row4 col8\" >0.1240</td>\n",
       "    </tr>\n",
       "    <tr>\n",
       "      <th id=\"T_79284_level0_row5\" class=\"row_heading level0 row5\" >lightgbm</th>\n",
       "      <td id=\"T_79284_row5_col0\" class=\"data row5 col0\" >Light Gradient Boosting Machine</td>\n",
       "      <td id=\"T_79284_row5_col1\" class=\"data row5 col1\" >0.5442</td>\n",
       "      <td id=\"T_79284_row5_col2\" class=\"data row5 col2\" >0.0000</td>\n",
       "      <td id=\"T_79284_row5_col3\" class=\"data row5 col3\" >0.3766</td>\n",
       "      <td id=\"T_79284_row5_col4\" class=\"data row5 col4\" >0.3982</td>\n",
       "      <td id=\"T_79284_row5_col5\" class=\"data row5 col5\" >0.3853</td>\n",
       "      <td id=\"T_79284_row5_col6\" class=\"data row5 col6\" >0.0249</td>\n",
       "      <td id=\"T_79284_row5_col7\" class=\"data row5 col7\" >0.0251</td>\n",
       "      <td id=\"T_79284_row5_col8\" class=\"data row5 col8\" >0.1350</td>\n",
       "    </tr>\n",
       "    <tr>\n",
       "      <th id=\"T_79284_level0_row6\" class=\"row_heading level0 row6\" >gbc</th>\n",
       "      <td id=\"T_79284_row6_col0\" class=\"data row6 col0\" >Gradient Boosting Classifier</td>\n",
       "      <td id=\"T_79284_row6_col1\" class=\"data row6 col1\" >0.5426</td>\n",
       "      <td id=\"T_79284_row6_col2\" class=\"data row6 col2\" >0.5119</td>\n",
       "      <td id=\"T_79284_row6_col3\" class=\"data row6 col3\" >0.3478</td>\n",
       "      <td id=\"T_79284_row6_col4\" class=\"data row6 col4\" >0.3929</td>\n",
       "      <td id=\"T_79284_row6_col5\" class=\"data row6 col5\" >0.3665</td>\n",
       "      <td id=\"T_79284_row6_col6\" class=\"data row6 col6\" >0.0122</td>\n",
       "      <td id=\"T_79284_row6_col7\" class=\"data row6 col7\" >0.0129</td>\n",
       "      <td id=\"T_79284_row6_col8\" class=\"data row6 col8\" >0.1180</td>\n",
       "    </tr>\n",
       "    <tr>\n",
       "      <th id=\"T_79284_level0_row7\" class=\"row_heading level0 row7\" >ada</th>\n",
       "      <td id=\"T_79284_row7_col0\" class=\"data row7 col0\" >Ada Boost Classifier</td>\n",
       "      <td id=\"T_79284_row7_col1\" class=\"data row7 col1\" >0.5314</td>\n",
       "      <td id=\"T_79284_row7_col2\" class=\"data row7 col2\" >0.4914</td>\n",
       "      <td id=\"T_79284_row7_col3\" class=\"data row7 col3\" >0.3683</td>\n",
       "      <td id=\"T_79284_row7_col4\" class=\"data row7 col4\" >0.3752</td>\n",
       "      <td id=\"T_79284_row7_col5\" class=\"data row7 col5\" >0.3697</td>\n",
       "      <td id=\"T_79284_row7_col6\" class=\"data row7 col6\" >-0.0006</td>\n",
       "      <td id=\"T_79284_row7_col7\" class=\"data row7 col7\" >-0.0020</td>\n",
       "      <td id=\"T_79284_row7_col8\" class=\"data row7 col8\" >0.0930</td>\n",
       "    </tr>\n",
       "    <tr>\n",
       "      <th id=\"T_79284_level0_row8\" class=\"row_heading level0 row8\" >svm</th>\n",
       "      <td id=\"T_79284_row8_col0\" class=\"data row8 col0\" >SVM - Linear Kernel</td>\n",
       "      <td id=\"T_79284_row8_col1\" class=\"data row8 col1\" >0.5137</td>\n",
       "      <td id=\"T_79284_row8_col2\" class=\"data row8 col2\" >0.4614</td>\n",
       "      <td id=\"T_79284_row8_col3\" class=\"data row8 col3\" >0.3944</td>\n",
       "      <td id=\"T_79284_row8_col4\" class=\"data row8 col4\" >0.3779</td>\n",
       "      <td id=\"T_79284_row8_col5\" class=\"data row8 col5\" >0.3713</td>\n",
       "      <td id=\"T_79284_row8_col6\" class=\"data row8 col6\" >-0.0152</td>\n",
       "      <td id=\"T_79284_row8_col7\" class=\"data row8 col7\" >-0.0154</td>\n",
       "      <td id=\"T_79284_row8_col8\" class=\"data row8 col8\" >0.0500</td>\n",
       "    </tr>\n",
       "    <tr>\n",
       "      <th id=\"T_79284_level0_row9\" class=\"row_heading level0 row9\" >lda</th>\n",
       "      <td id=\"T_79284_row9_col0\" class=\"data row9 col0\" >Linear Discriminant Analysis</td>\n",
       "      <td id=\"T_79284_row9_col1\" class=\"data row9 col1\" >0.4897</td>\n",
       "      <td id=\"T_79284_row9_col2\" class=\"data row9 col2\" >0.4804</td>\n",
       "      <td id=\"T_79284_row9_col3\" class=\"data row9 col3\" >0.3603</td>\n",
       "      <td id=\"T_79284_row9_col4\" class=\"data row9 col4\" >0.3400</td>\n",
       "      <td id=\"T_79284_row9_col5\" class=\"data row9 col5\" >0.3450</td>\n",
       "      <td id=\"T_79284_row9_col6\" class=\"data row9 col6\" >-0.0685</td>\n",
       "      <td id=\"T_79284_row9_col7\" class=\"data row9 col7\" >-0.0715</td>\n",
       "      <td id=\"T_79284_row9_col8\" class=\"data row9 col8\" >0.0500</td>\n",
       "    </tr>\n",
       "    <tr>\n",
       "      <th id=\"T_79284_level0_row10\" class=\"row_heading level0 row10\" >nb</th>\n",
       "      <td id=\"T_79284_row10_col0\" class=\"data row10 col0\" >Naive Bayes</td>\n",
       "      <td id=\"T_79284_row10_col1\" class=\"data row10 col1\" >0.4881</td>\n",
       "      <td id=\"T_79284_row10_col2\" class=\"data row10 col2\" >0.0000</td>\n",
       "      <td id=\"T_79284_row10_col3\" class=\"data row10 col3\" >0.4728</td>\n",
       "      <td id=\"T_79284_row10_col4\" class=\"data row10 col4\" >0.3696</td>\n",
       "      <td id=\"T_79284_row10_col5\" class=\"data row10 col5\" >0.4099</td>\n",
       "      <td id=\"T_79284_row10_col6\" class=\"data row10 col6\" >-0.0279</td>\n",
       "      <td id=\"T_79284_row10_col7\" class=\"data row10 col7\" >-0.0317</td>\n",
       "      <td id=\"T_79284_row10_col8\" class=\"data row10 col8\" >0.0550</td>\n",
       "    </tr>\n",
       "    <tr>\n",
       "      <th id=\"T_79284_level0_row11\" class=\"row_heading level0 row11\" >knn</th>\n",
       "      <td id=\"T_79284_row11_col0\" class=\"data row11 col0\" >K Neighbors Classifier</td>\n",
       "      <td id=\"T_79284_row11_col1\" class=\"data row11 col1\" >0.4880</td>\n",
       "      <td id=\"T_79284_row11_col2\" class=\"data row11 col2\" >0.0000</td>\n",
       "      <td id=\"T_79284_row11_col3\" class=\"data row11 col3\" >0.3804</td>\n",
       "      <td id=\"T_79284_row11_col4\" class=\"data row11 col4\" >0.3468</td>\n",
       "      <td id=\"T_79284_row11_col5\" class=\"data row11 col5\" >0.3607</td>\n",
       "      <td id=\"T_79284_row11_col6\" class=\"data row11 col6\" >-0.0632</td>\n",
       "      <td id=\"T_79284_row11_col7\" class=\"data row11 col7\" >-0.0638</td>\n",
       "      <td id=\"T_79284_row11_col8\" class=\"data row11 col8\" >0.0640</td>\n",
       "    </tr>\n",
       "    <tr>\n",
       "      <th id=\"T_79284_level0_row12\" class=\"row_heading level0 row12\" >lr</th>\n",
       "      <td id=\"T_79284_row12_col0\" class=\"data row12 col0\" >Logistic Regression</td>\n",
       "      <td id=\"T_79284_row12_col1\" class=\"data row12 col1\" >0.4864</td>\n",
       "      <td id=\"T_79284_row12_col2\" class=\"data row12 col2\" >0.4836</td>\n",
       "      <td id=\"T_79284_row12_col3\" class=\"data row12 col3\" >0.3937</td>\n",
       "      <td id=\"T_79284_row12_col4\" class=\"data row12 col4\" >0.3515</td>\n",
       "      <td id=\"T_79284_row12_col5\" class=\"data row12 col5\" >0.3669</td>\n",
       "      <td id=\"T_79284_row12_col6\" class=\"data row12 col6\" >-0.0592</td>\n",
       "      <td id=\"T_79284_row12_col7\" class=\"data row12 col7\" >-0.0631</td>\n",
       "      <td id=\"T_79284_row12_col8\" class=\"data row12 col8\" >0.4700</td>\n",
       "    </tr>\n",
       "    <tr>\n",
       "      <th id=\"T_79284_level0_row13\" class=\"row_heading level0 row13\" >ridge</th>\n",
       "      <td id=\"T_79284_row13_col0\" class=\"data row13 col0\" >Ridge Classifier</td>\n",
       "      <td id=\"T_79284_row13_col1\" class=\"data row13 col1\" >0.4832</td>\n",
       "      <td id=\"T_79284_row13_col2\" class=\"data row13 col2\" >0.4831</td>\n",
       "      <td id=\"T_79284_row13_col3\" class=\"data row13 col3\" >0.3687</td>\n",
       "      <td id=\"T_79284_row13_col4\" class=\"data row13 col4\" >0.3379</td>\n",
       "      <td id=\"T_79284_row13_col5\" class=\"data row13 col5\" >0.3478</td>\n",
       "      <td id=\"T_79284_row13_col6\" class=\"data row13 col6\" >-0.0748</td>\n",
       "      <td id=\"T_79284_row13_col7\" class=\"data row13 col7\" >-0.0788</td>\n",
       "      <td id=\"T_79284_row13_col8\" class=\"data row13 col8\" >0.0510</td>\n",
       "    </tr>\n",
       "  </tbody>\n",
       "</table>\n"
      ],
      "text/plain": [
       "<pandas.io.formats.style.Styler at 0x2a8f1b90dd0>"
      ]
     },
     "metadata": {},
     "output_type": "display_data"
    },
    {
     "data": {
      "application/vnd.jupyter.widget-view+json": {
       "model_id": "8f35d1b53c32422f931efd0cf284a13a",
       "version_major": 2,
       "version_minor": 0
      },
      "text/plain": [
       "Processing:   0%|          | 0/61 [00:00<?, ?it/s]"
      ]
     },
     "metadata": {},
     "output_type": "display_data"
    }
   ],
   "source": [
    "best_model = compare_models()"
   ]
  },
  {
   "cell_type": "markdown",
   "metadata": {},
   "source": [
    "## Evaluate Models"
   ]
  },
  {
   "cell_type": "code",
   "execution_count": 15,
   "metadata": {},
   "outputs": [
    {
     "data": {
      "text/html": [],
      "text/plain": [
       "<IPython.core.display.HTML object>"
      ]
     },
     "metadata": {},
     "output_type": "display_data"
    },
    {
     "data": {
      "image/png": "[encoded data removed]",
      "text/plain": [
       "<Figure size 800x550 with 1 Axes>"
      ]
     },
     "metadata": {},
     "output_type": "display_data"
    }
   ],
   "source": [
    "plot_model(best_model, plot='confusion_matrix')"
   ]
  },
  {
   "cell_type": "code",
   "execution_count": 16,
   "metadata": {},
   "outputs": [
    {
     "ename": "TypeError",
     "evalue": "Feature Importance and RFE plots not available for estimators that doesnt support coef_ or feature_importances_ attribute.",
     "output_type": "error",
     "traceback": [
      "\u001b[1;31m---------------------------------------------------------------------------\u001b[0m",
      "\u001b[1;31mTypeError\u001b[0m                                 Traceback (most recent call last)",
      "Cell \u001b[1;32mIn[16], line 1\u001b[0m\n\u001b[1;32m----> 1\u001b[0m plot_model(best_model, plot\u001b[38;5;241m=\u001b[39m\u001b[38;5;124m'\u001b[39m\u001b[38;5;124mfeature\u001b[39m\u001b[38;5;124m'\u001b[39m)\n",
      "File \u001b[1;32m~\\.conda\\envs\\datascience\\Lib\\site-packages\\pycaret\\utils\\generic.py:964\u001b[0m, in \u001b[0;36mcheck_if_global_is_not_none.<locals>.decorator.<locals>.wrapper\u001b[1;34m(*args, **kwargs)\u001b[0m\n\u001b[0;32m    962\u001b[0m     \u001b[38;5;28;01mif\u001b[39;00m globals_d[name] \u001b[38;5;129;01mis\u001b[39;00m \u001b[38;5;28;01mNone\u001b[39;00m:\n\u001b[0;32m    963\u001b[0m         \u001b[38;5;28;01mraise\u001b[39;00m \u001b[38;5;167;01mValueError\u001b[39;00m(message)\n\u001b[1;32m--> 964\u001b[0m \u001b[38;5;28;01mreturn\u001b[39;00m func(\u001b[38;5;241m*\u001b[39margs, \u001b[38;5;241m*\u001b[39m\u001b[38;5;241m*\u001b[39mkwargs)\n",
      "File \u001b[1;32m~\\.conda\\envs\\datascience\\Lib\\site-packages\\pycaret\\classification\\functional.py:1725\u001b[0m, in \u001b[0;36mplot_model\u001b[1;34m(estimator, plot, scale, save, fold, fit_kwargs, plot_kwargs, groups, verbose, display_format)\u001b[0m\n\u001b[0;32m   1611\u001b[0m \u001b[38;5;129m@check_if_global_is_not_none\u001b[39m(\u001b[38;5;28mglobals\u001b[39m(), _CURRENT_EXPERIMENT_DECORATOR_DICT)\n\u001b[0;32m   1612\u001b[0m \u001b[38;5;28;01mdef\u001b[39;00m \u001b[38;5;21mplot_model\u001b[39m(\n\u001b[0;32m   1613\u001b[0m     estimator,\n\u001b[1;32m   (...)\u001b[0m\n\u001b[0;32m   1622\u001b[0m     display_format: Optional[\u001b[38;5;28mstr\u001b[39m] \u001b[38;5;241m=\u001b[39m \u001b[38;5;28;01mNone\u001b[39;00m,\n\u001b[0;32m   1623\u001b[0m ) \u001b[38;5;241m-\u001b[39m\u001b[38;5;241m>\u001b[39m Optional[\u001b[38;5;28mstr\u001b[39m]:\n\u001b[0;32m   1624\u001b[0m \u001b[38;5;250m    \u001b[39m\u001b[38;5;124;03m\"\"\"\u001b[39;00m\n\u001b[0;32m   1625\u001b[0m \u001b[38;5;124;03m    This function analyzes the performance of a trained model on holdout set.\u001b[39;00m\n\u001b[0;32m   1626\u001b[0m \u001b[38;5;124;03m    It may require re-training the model in certain cases.\u001b[39;00m\n\u001b[1;32m   (...)\u001b[0m\n\u001b[0;32m   1722\u001b[0m \n\u001b[0;32m   1723\u001b[0m \u001b[38;5;124;03m    \"\"\"\u001b[39;00m\n\u001b[1;32m-> 1725\u001b[0m     \u001b[38;5;28;01mreturn\u001b[39;00m _CURRENT_EXPERIMENT\u001b[38;5;241m.\u001b[39mplot_model(\n\u001b[0;32m   1726\u001b[0m         estimator\u001b[38;5;241m=\u001b[39mestimator,\n\u001b[0;32m   1727\u001b[0m         plot\u001b[38;5;241m=\u001b[39mplot,\n\u001b[0;32m   1728\u001b[0m         scale\u001b[38;5;241m=\u001b[39mscale,\n\u001b[0;32m   1729\u001b[0m         save\u001b[38;5;241m=\u001b[39msave,\n\u001b[0;32m   1730\u001b[0m         fold\u001b[38;5;241m=\u001b[39mfold,\n\u001b[0;32m   1731\u001b[0m         fit_kwargs\u001b[38;5;241m=\u001b[39mfit_kwargs,\n\u001b[0;32m   1732\u001b[0m         plot_kwargs\u001b[38;5;241m=\u001b[39mplot_kwargs,\n\u001b[0;32m   1733\u001b[0m         groups\u001b[38;5;241m=\u001b[39mgroups,\n\u001b[0;32m   1734\u001b[0m         verbose\u001b[38;5;241m=\u001b[39mverbose,\n\u001b[0;32m   1735\u001b[0m         display_format\u001b[38;5;241m=\u001b[39mdisplay_format,\n\u001b[0;32m   1736\u001b[0m     )\n",
      "File \u001b[1;32m~\\.conda\\envs\\datascience\\Lib\\site-packages\\pycaret\\classification\\oop.py:2071\u001b[0m, in \u001b[0;36mClassificationExperiment.plot_model\u001b[1;34m(self, estimator, plot, scale, save, fold, fit_kwargs, plot_kwargs, groups, verbose, display_format)\u001b[0m\n\u001b[0;32m   1957\u001b[0m \u001b[38;5;28;01mdef\u001b[39;00m \u001b[38;5;21mplot_model\u001b[39m(\n\u001b[0;32m   1958\u001b[0m     \u001b[38;5;28mself\u001b[39m,\n\u001b[0;32m   1959\u001b[0m     estimator,\n\u001b[1;32m   (...)\u001b[0m\n\u001b[0;32m   1968\u001b[0m     display_format: Optional[\u001b[38;5;28mstr\u001b[39m] \u001b[38;5;241m=\u001b[39m \u001b[38;5;28;01mNone\u001b[39;00m,\n\u001b[0;32m   1969\u001b[0m ) \u001b[38;5;241m-\u001b[39m\u001b[38;5;241m>\u001b[39m Optional[\u001b[38;5;28mstr\u001b[39m]:\n\u001b[0;32m   1970\u001b[0m \u001b[38;5;250m    \u001b[39m\u001b[38;5;124;03m\"\"\"\u001b[39;00m\n\u001b[0;32m   1971\u001b[0m \u001b[38;5;124;03m    This function analyzes the performance of a trained model on holdout set.\u001b[39;00m\n\u001b[0;32m   1972\u001b[0m \u001b[38;5;124;03m    It may require re-training the model in certain cases.\u001b[39;00m\n\u001b[1;32m   (...)\u001b[0m\n\u001b[0;32m   2068\u001b[0m \n\u001b[0;32m   2069\u001b[0m \u001b[38;5;124;03m    \"\"\"\u001b[39;00m\n\u001b[1;32m-> 2071\u001b[0m     \u001b[38;5;28;01mreturn\u001b[39;00m \u001b[38;5;28msuper\u001b[39m()\u001b[38;5;241m.\u001b[39mplot_model(\n\u001b[0;32m   2072\u001b[0m         estimator\u001b[38;5;241m=\u001b[39mestimator,\n\u001b[0;32m   2073\u001b[0m         plot\u001b[38;5;241m=\u001b[39mplot,\n\u001b[0;32m   2074\u001b[0m         scale\u001b[38;5;241m=\u001b[39mscale,\n\u001b[0;32m   2075\u001b[0m         save\u001b[38;5;241m=\u001b[39msave,\n\u001b[0;32m   2076\u001b[0m         fold\u001b[38;5;241m=\u001b[39mfold,\n\u001b[0;32m   2077\u001b[0m         fit_kwargs\u001b[38;5;241m=\u001b[39mfit_kwargs,\n\u001b[0;32m   2078\u001b[0m         plot_kwargs\u001b[38;5;241m=\u001b[39mplot_kwargs,\n\u001b[0;32m   2079\u001b[0m         groups\u001b[38;5;241m=\u001b[39mgroups,\n\u001b[0;32m   2080\u001b[0m         verbose\u001b[38;5;241m=\u001b[39mverbose,\n\u001b[0;32m   2081\u001b[0m         display_format\u001b[38;5;241m=\u001b[39mdisplay_format,\n\u001b[0;32m   2082\u001b[0m     )\n",
      "File \u001b[1;32m~\\.conda\\envs\\datascience\\Lib\\site-packages\\pycaret\\internal\\pycaret_experiment\\tabular_experiment.py:2045\u001b[0m, in \u001b[0;36m_TabularExperiment.plot_model\u001b[1;34m(self, estimator, plot, scale, save, fold, fit_kwargs, plot_kwargs, groups, feature_name, label, verbose, display_format)\u001b[0m\n\u001b[0;32m   1933\u001b[0m \u001b[38;5;28;01mdef\u001b[39;00m \u001b[38;5;21mplot_model\u001b[39m(\n\u001b[0;32m   1934\u001b[0m     \u001b[38;5;28mself\u001b[39m,\n\u001b[0;32m   1935\u001b[0m     estimator,\n\u001b[1;32m   (...)\u001b[0m\n\u001b[0;32m   1946\u001b[0m     display_format: Optional[\u001b[38;5;28mstr\u001b[39m] \u001b[38;5;241m=\u001b[39m \u001b[38;5;28;01mNone\u001b[39;00m,\n\u001b[0;32m   1947\u001b[0m ) \u001b[38;5;241m-\u001b[39m\u001b[38;5;241m>\u001b[39m Optional[\u001b[38;5;28mstr\u001b[39m]:\n\u001b[0;32m   1948\u001b[0m \u001b[38;5;250m    \u001b[39m\u001b[38;5;124;03m\"\"\"\u001b[39;00m\n\u001b[0;32m   1949\u001b[0m \u001b[38;5;124;03m    This function takes a trained model object and returns a plot based on the\u001b[39;00m\n\u001b[0;32m   1950\u001b[0m \u001b[38;5;124;03m    test / hold-out set. The process may require the model to be re-trained in\u001b[39;00m\n\u001b[1;32m   (...)\u001b[0m\n\u001b[0;32m   2043\u001b[0m \n\u001b[0;32m   2044\u001b[0m \u001b[38;5;124;03m    \"\"\"\u001b[39;00m\n\u001b[1;32m-> 2045\u001b[0m     \u001b[38;5;28;01mreturn\u001b[39;00m \u001b[38;5;28mself\u001b[39m\u001b[38;5;241m.\u001b[39m_plot_model(\n\u001b[0;32m   2046\u001b[0m         estimator\u001b[38;5;241m=\u001b[39mestimator,\n\u001b[0;32m   2047\u001b[0m         plot\u001b[38;5;241m=\u001b[39mplot,\n\u001b[0;32m   2048\u001b[0m         scale\u001b[38;5;241m=\u001b[39mscale,\n\u001b[0;32m   2049\u001b[0m         save\u001b[38;5;241m=\u001b[39msave,\n\u001b[0;32m   2050\u001b[0m         fold\u001b[38;5;241m=\u001b[39mfold,\n\u001b[0;32m   2051\u001b[0m         fit_kwargs\u001b[38;5;241m=\u001b[39mfit_kwargs,\n\u001b[0;32m   2052\u001b[0m         plot_kwargs\u001b[38;5;241m=\u001b[39mplot_kwargs,\n\u001b[0;32m   2053\u001b[0m         groups\u001b[38;5;241m=\u001b[39mgroups,\n\u001b[0;32m   2054\u001b[0m         feature_name\u001b[38;5;241m=\u001b[39mfeature_name,\n\u001b[0;32m   2055\u001b[0m         label\u001b[38;5;241m=\u001b[39mlabel,\n\u001b[0;32m   2056\u001b[0m         verbose\u001b[38;5;241m=\u001b[39mverbose,\n\u001b[0;32m   2057\u001b[0m         display_format\u001b[38;5;241m=\u001b[39mdisplay_format,\n\u001b[0;32m   2058\u001b[0m     )\n",
      "File \u001b[1;32m~\\.conda\\envs\\datascience\\Lib\\site-packages\\pycaret\\internal\\pycaret_experiment\\tabular_experiment.py:470\u001b[0m, in \u001b[0;36m_TabularExperiment._plot_model\u001b[1;34m(self, estimator, plot, scale, save, fold, fit_kwargs, plot_kwargs, groups, feature_name, label, verbose, system, display, display_format)\u001b[0m\n\u001b[0;32m    466\u001b[0m \u001b[38;5;66;03m# checking for feature plot\u001b[39;00m\n\u001b[0;32m    467\u001b[0m \u001b[38;5;28;01mif\u001b[39;00m \u001b[38;5;129;01mnot\u001b[39;00m (\n\u001b[0;32m    468\u001b[0m     \u001b[38;5;28mhasattr\u001b[39m(estimator, \u001b[38;5;124m\"\u001b[39m\u001b[38;5;124mcoef_\u001b[39m\u001b[38;5;124m\"\u001b[39m) \u001b[38;5;129;01mor\u001b[39;00m \u001b[38;5;28mhasattr\u001b[39m(estimator, \u001b[38;5;124m\"\u001b[39m\u001b[38;5;124mfeature_importances_\u001b[39m\u001b[38;5;124m\"\u001b[39m)\n\u001b[0;32m    469\u001b[0m ) \u001b[38;5;129;01mand\u001b[39;00m (plot \u001b[38;5;241m==\u001b[39m \u001b[38;5;124m\"\u001b[39m\u001b[38;5;124mfeature\u001b[39m\u001b[38;5;124m\"\u001b[39m \u001b[38;5;129;01mor\u001b[39;00m plot \u001b[38;5;241m==\u001b[39m \u001b[38;5;124m\"\u001b[39m\u001b[38;5;124mfeature_all\u001b[39m\u001b[38;5;124m\"\u001b[39m \u001b[38;5;129;01mor\u001b[39;00m plot \u001b[38;5;241m==\u001b[39m \u001b[38;5;124m\"\u001b[39m\u001b[38;5;124mrfe\u001b[39m\u001b[38;5;124m\"\u001b[39m):\n\u001b[1;32m--> 470\u001b[0m     \u001b[38;5;28;01mraise\u001b[39;00m \u001b[38;5;167;01mTypeError\u001b[39;00m(\n\u001b[0;32m    471\u001b[0m         \u001b[38;5;124m\"\u001b[39m\u001b[38;5;124mFeature Importance and RFE plots not available for estimators that doesnt support coef_ or feature_importances_ attribute.\u001b[39m\u001b[38;5;124m\"\u001b[39m\n\u001b[0;32m    472\u001b[0m     )\n\u001b[0;32m    474\u001b[0m \u001b[38;5;66;03m# checking fold parameter\u001b[39;00m\n\u001b[0;32m    475\u001b[0m \u001b[38;5;28;01mif\u001b[39;00m fold \u001b[38;5;129;01mis\u001b[39;00m \u001b[38;5;129;01mnot\u001b[39;00m \u001b[38;5;28;01mNone\u001b[39;00m \u001b[38;5;129;01mand\u001b[39;00m \u001b[38;5;129;01mnot\u001b[39;00m (\n\u001b[0;32m    476\u001b[0m     \u001b[38;5;28mtype\u001b[39m(fold) \u001b[38;5;129;01mis\u001b[39;00m \u001b[38;5;28mint\u001b[39m \u001b[38;5;129;01mor\u001b[39;00m is_sklearn_cv_generator(fold)\n\u001b[0;32m    477\u001b[0m ):\n",
      "\u001b[1;31mTypeError\u001b[0m: Feature Importance and RFE plots not available for estimators that doesnt support coef_ or feature_importances_ attribute."
     ]
    }
   ],
   "source": [
    "plot_model(best_model, plot='feature')"
   ]
  },
  {
   "cell_type": "code",
   "execution_count": null,
   "metadata": {},
   "outputs": [],
   "source": [
    "plot_model(best_model, plot='auc')"
   ]
  },
  {
   "cell_type": "markdown",
   "metadata": {},
   "source": [
    "# Finalize Model and Save"
   ]
  },
  {
   "cell_type": "code",
   "execution_count": null,
   "metadata": {},
   "outputs": [],
   "source": [
    "final_model = finalize_model(best_model)\n",
    "save_model(final_model, 'titanic_classification_pipeline')"
   ]
  },
  {
   "cell_type": "code",
   "execution_count": null,
   "metadata": {},
   "outputs": [],
   "source": []
  }
 ],
 "metadata": {
  "kernelspec": {
   "display_name": "Python 3 (ipykernel)",
   "language": "python",
   "name": "python3"
  },
  "language_info": {
   "codemirror_mode": {
    "name": "ipython",
    "version": 3
   },
   "file_extension": ".py",
   "mimetype": "text/x-python",
   "name": "python",
   "nbconvert_exporter": "python",
   "pygments_lexer": "ipython3",
   "version": "3.11.9"
  }
 },
 "nbformat": 4,
 "nbformat_minor": 4
}
